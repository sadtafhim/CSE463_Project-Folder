{
  "nbformat": 4,
  "nbformat_minor": 0,
  "metadata": {
    "colab": {
      "provenance": []
    },
    "kernelspec": {
      "name": "python3",
      "display_name": "Python 3"
    },
    "language_info": {
      "name": "python"
    }
  },
  "cells": [
    {
      "cell_type": "code",
      "execution_count": null,
      "metadata": {
        "colab": {
          "base_uri": "https://localhost:8080/"
        },
        "id": "MWWw7fIHoISM",
        "outputId": "1de1f34b-bc96-4706-9e35-7e9e0e7675ee"
      },
      "outputs": [
        {
          "output_type": "stream",
          "name": "stdout",
          "text": [
            "Drive already mounted at /content/drive; to attempt to forcibly remount, call drive.mount(\"/content/drive\", force_remount=True).\n"
          ]
        }
      ],
      "source": [
        "from google.colab import drive\n",
        "drive.mount('/content/drive')"
      ]
    },
    {
      "cell_type": "code",
      "source": [
        "import os\n",
        "import shutil"
      ],
      "metadata": {
        "id": "KCxeYmlFrwoM"
      },
      "execution_count": null,
      "outputs": []
    },
    {
      "cell_type": "code",
      "source": [
        "# CHANGE this if your folder is in a different location in Drive\n",
        "input_root = '/content/drive/MyDrive/IRIS_Face_Database'\n",
        "output_root = '/content/drive/MyDrive/output_dataset'"
      ],
      "metadata": {
        "id": "fzvIhxUUsDHc"
      },
      "execution_count": null,
      "outputs": []
    },
    {
      "cell_type": "code",
      "source": [
        "thermal_dir = os.path.join(output_root, 'thermal')\n",
        "visual_dir = os.path.join(output_root, 'visual')\n",
        "\n",
        "# Create output folders if they don't exist\n",
        "os.makedirs(thermal_dir, exist_ok=True)\n",
        "os.makedirs(visual_dir, exist_ok=True)"
      ],
      "metadata": {
        "id": "3ih4vSGk7kaq"
      },
      "execution_count": null,
      "outputs": []
    },
    {
      "cell_type": "code",
      "source": [
        "# Walk through dataset and organize thermal vs visual images\n",
        "for person in os.listdir(input_root):\n",
        "    person_path = os.path.join(input_root, person)\n",
        "    if not os.path.isdir(person_path):\n",
        "        continue\n",
        "\n",
        "    for category in ['Expression', 'Illumination']:\n",
        "        category_path = os.path.join(person_path, category)\n",
        "        if not os.path.exists(category_path):\n",
        "            continue\n",
        "\n",
        "        for subfolder in os.listdir(category_path):\n",
        "            subfolder_path = os.path.join(category_path, subfolder)\n",
        "            if not os.path.isdir(subfolder_path):\n",
        "                continue\n",
        "\n",
        "            for filename in os.listdir(subfolder_path):\n",
        "                if not filename.lower().endswith('.bmp'):\n",
        "                    continue  # Skip non-image files like Thumbs.db\n",
        "\n",
        "                src_path = os.path.join(subfolder_path, filename)\n",
        "                new_filename = filename  # ✅ Keep original filename only\n",
        "\n",
        "                if filename.startswith('L-'):  # Thermal image\n",
        "                    shutil.copy(src_path, os.path.join(thermal_dir, new_filename))\n",
        "                elif filename.startswith('V-'):  # Visual image\n",
        "                    shutil.copy(src_path, os.path.join(visual_dir, new_filename))\n",
        "\n",
        "# Summary\n",
        "print(\"Dataset organized with original filenames!\")\n",
        "print(f\"Thermal images: {len(os.listdir(thermal_dir))}\")\n",
        "print(f\"Visual images:  {len(os.listdir(visual_dir))}\")"
      ],
      "metadata": {
        "id": "YzeliOY38Qc1",
        "colab": {
          "base_uri": "https://localhost:8080/"
        },
        "outputId": "cc67dead-0c8a-416e-9808-ea4202033973"
      },
      "execution_count": null,
      "outputs": [
        {
          "output_type": "stream",
          "name": "stdout",
          "text": [
            "Dataset organized with original filenames!\n",
            "Thermal images: 1312\n",
            "Visual images:  1313\n"
          ]
        }
      ]
    }
  ]
}