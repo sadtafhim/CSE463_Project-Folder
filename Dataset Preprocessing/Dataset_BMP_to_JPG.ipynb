{
  "nbformat": 4,
  "nbformat_minor": 0,
  "metadata": {
    "colab": {
      "provenance": []
    },
    "kernelspec": {
      "name": "python3",
      "display_name": "Python 3"
    },
    "language_info": {
      "name": "python"
    }
  },
  "cells": [
    {
      "cell_type": "code",
      "execution_count": null,
      "metadata": {
        "colab": {
          "base_uri": "https://localhost:8080/"
        },
        "id": "cHxciSZ0QLrw",
        "outputId": "3469c085-fead-48b4-8fb5-e131aaf504b0"
      },
      "outputs": [
        {
          "output_type": "stream",
          "name": "stdout",
          "text": [
            "Mounted at /content/drive\n",
            "Conversion complete!\n",
            "Thermal JPGs: 1312\n",
            "Visual JPGs:  1313\n"
          ]
        }
      ],
      "source": [
        "from google.colab import drive\n",
        "drive.mount('/content/drive')\n",
        "\n",
        "from PIL import Image\n",
        "import os\n",
        "\n",
        "# Input and output root directories\n",
        "input_root = '/content/drive/MyDrive/output_dataset'\n",
        "output_root = '/content/drive/MyDrive/output_dataset_jpg'\n",
        "\n",
        "# Create output folders\n",
        "os.makedirs(os.path.join(output_root, 'thermal'), exist_ok=True)\n",
        "os.makedirs(os.path.join(output_root, 'visual'), exist_ok=True)\n",
        "\n",
        "# Helper function to convert images\n",
        "def convert_bmp_to_jpg(input_folder, output_folder):\n",
        "    for filename in os.listdir(input_folder):\n",
        "        if not filename.lower().endswith('.bmp'):\n",
        "            continue\n",
        "\n",
        "        bmp_path = os.path.join(input_folder, filename)\n",
        "        jpg_filename = os.path.splitext(filename)[0] + '.jpg'\n",
        "        jpg_path = os.path.join(output_folder, jpg_filename)\n",
        "\n",
        "        try:\n",
        "            with Image.open(bmp_path) as img:\n",
        "                rgb_img = img.convert('RGB')  # Ensure it's in RGB format\n",
        "                rgb_img.save(jpg_path, 'JPEG')\n",
        "        except Exception as e:\n",
        "            print(f\"Failed to convert {filename}: {e}\")\n",
        "\n",
        "# Convert thermal and visual folders\n",
        "convert_bmp_to_jpg(os.path.join(input_root, 'thermal'), os.path.join(output_root, 'thermal'))\n",
        "convert_bmp_to_jpg(os.path.join(input_root, 'visual'), os.path.join(output_root, 'visual'))\n",
        "\n",
        "# Summary\n",
        "print(\"Conversion complete!\")\n",
        "print(f\"Thermal JPGs: {len(os.listdir(os.path.join(output_root, 'thermal')))}\")\n",
        "print(f\"Visual JPGs:  {len(os.listdir(os.path.join(output_root, 'visual')))}\")"
      ]
    },
    {
      "cell_type": "code",
      "source": [
        "from google.colab import drive\n",
        "drive.mount('/content/drive')\n",
        "\n",
        "import os\n",
        "import cv2\n",
        "\n",
        "# Input folder: visual images (.jpg)\n",
        "visual_input_dir = '/content/drive/MyDrive/output_dataset_jpg/visual'\n",
        "# Output folder: fake thermal images (grayscale)\n",
        "fake_thermal_output_dir = '/content/drive/MyDrive/output_dataset_jpg/fake_thermal'\n",
        "\n",
        "# Create output directory if it doesn't exist\n",
        "os.makedirs(fake_thermal_output_dir, exist_ok=True)\n",
        "\n",
        "# Process each visual image\n",
        "for filename in os.listdir(visual_input_dir):\n",
        "    if not filename.lower().endswith('.jpg'):\n",
        "        continue\n",
        "\n",
        "    input_path = os.path.join(visual_input_dir, filename)\n",
        "\n",
        "    # Extract the number from \"V-24.jpg\" to reuse in \"T-24.jpg\"\n",
        "    image_number = filename.split('-')[-1]  # e.g., '24.jpg'\n",
        "    thermal_filename = f\"T-{image_number}\"\n",
        "    output_path = os.path.join(fake_thermal_output_dir, thermal_filename)\n",
        "\n",
        "    try:\n",
        "        # Load image\n",
        "        img = cv2.imread(input_path)\n",
        "\n",
        "        # Convert to grayscale\n",
        "        gray = cv2.cvtColor(img, cv2.COLOR_BGR2GRAY)\n",
        "\n",
        "        # Optional: enhance contrast using histogram equalization\n",
        "        enhanced = cv2.equalizeHist(gray)\n",
        "\n",
        "        # Save as fake thermal (high-contrast grayscale)\n",
        "        cv2.imwrite(output_path, enhanced)\n",
        "    except Exception as e:\n",
        "        print(f\"❌ Error processing {filename}: {e}\")\n",
        "\n",
        "# Final summary\n",
        "print(\"✅ Fake thermal (grayscale) images generated.\")\n",
        "print(f\"🖼️ Total images: {len(os.listdir(fake_thermal_output_dir))}\")\n"
      ],
      "metadata": {
        "colab": {
          "base_uri": "https://localhost:8080/"
        },
        "id": "4c_WvuSEQUWn",
        "outputId": "a2e822c3-6350-49c8-9f64-b9376b573671"
      },
      "execution_count": null,
      "outputs": [
        {
          "output_type": "stream",
          "name": "stdout",
          "text": [
            "Drive already mounted at /content/drive; to attempt to forcibly remount, call drive.mount(\"/content/drive\", force_remount=True).\n",
            "✅ Fake thermal (grayscale) images generated.\n",
            "🖼️ Total images: 603\n"
          ]
        }
      ]
    },
    {
      "cell_type": "code",
      "source": [],
      "metadata": {
        "id": "Qm3Yxmy-ZjvC"
      },
      "execution_count": null,
      "outputs": []
    }
  ]
}