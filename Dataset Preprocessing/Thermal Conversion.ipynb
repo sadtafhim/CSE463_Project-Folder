{
  "nbformat": 4,
  "nbformat_minor": 0,
  "metadata": {
    "colab": {
      "provenance": [],
      "gpuType": "T4"
    },
    "kernelspec": {
      "name": "python3",
      "display_name": "Python 3"
    },
    "language_info": {
      "name": "python"
    },
    "accelerator": "GPU"
  },
  "cells": [
    {
      "cell_type": "code",
      "execution_count": null,
      "metadata": {
        "colab": {
          "base_uri": "https://localhost:8080/"
        },
        "id": "bVCIwmjSYYjj",
        "outputId": "77df1c21-825e-4e5b-ffa9-4ee4aec50f3c"
      },
      "outputs": [
        {
          "output_type": "stream",
          "name": "stdout",
          "text": [
            "Drive already mounted at /content/drive; to attempt to forcibly remount, call drive.mount(\"/content/drive\", force_remount=True).\n",
            "Thermal-style images generated.\n",
            "Total images: 1313\n"
          ]
        }
      ],
      "source": [
        "from google.colab import drive\n",
        "drive.mount('/content/drive')\n",
        "\n",
        "import os\n",
        "import cv2\n",
        "\n",
        "# Input folder: visual images (.jpg)\n",
        "visual_input_dir = '/content/drive/MyDrive/output_dataset_jpg/visual'\n",
        "# Output folder: fake thermal images\n",
        "fake_thermal_output_dir = '/content/drive/MyDrive/output_dataset_jpg/converted_thermal'\n",
        "\n",
        "# Create output directory if it doesn't exist\n",
        "os.makedirs(fake_thermal_output_dir, exist_ok=True)\n",
        "\n",
        "# Process each visual image\n",
        "for filename in os.listdir(visual_input_dir):\n",
        "    if not filename.lower().endswith('.jpg'):\n",
        "        continue\n",
        "\n",
        "    input_path = os.path.join(visual_input_dir, filename)\n",
        "\n",
        "    # Extract the number from \"V-24.jpg\" to reuse in \"T-24.jpg\"\n",
        "    image_number = filename.split('-')[-1]  # e.g., '24.jpg'\n",
        "    thermal_filename = f\"CT-{image_number}\"\n",
        "    output_path = os.path.join(fake_thermal_output_dir, thermal_filename)\n",
        "\n",
        "    try:\n",
        "        # Load image\n",
        "        img = cv2.imread(input_path)\n",
        "\n",
        "        # # Convert to grayscale\n",
        "        # gray = cv2.cvtColor(img, cv2.COLOR_BGR2GRAY)\n",
        "\n",
        "        # # Enhance contrast using histogram equalization\n",
        "        # enhanced = cv2.equalizeHist(gray)\n",
        "\n",
        "        # Apply a colormap to simulate thermal image\n",
        "        thermal_img = cv2.applyColorMap(img, cv2.COLORMAP_JET)\n",
        "\n",
        "        # Save the thermal-style image\n",
        "        cv2.imwrite(output_path, thermal_img)\n",
        "    except Exception as e:\n",
        "        print(f\"Error processing {filename}: {e}\")\n",
        "\n",
        "# Final summary\n",
        "print(\"Thermal-style images generated.\")\n",
        "print(f\"Total images: {len(os.listdir(fake_thermal_output_dir))}\")\n"
      ]
    },
    {
      "cell_type": "code",
      "source": [],
      "metadata": {
        "id": "ExUsWGaEYwfi"
      },
      "execution_count": null,
      "outputs": []
    }
  ]
}